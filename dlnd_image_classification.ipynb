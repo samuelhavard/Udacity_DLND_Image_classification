{
 "cells": [
  {
   "cell_type": "markdown",
   "metadata": {
    "collapsed": true,
    "deletable": true,
    "editable": true
   },
   "source": [
    "# Image Classification\n",
    "In this project, you'll classify images from the [CIFAR-10 dataset](https://www.cs.toronto.edu/~kriz/cifar.html).  The dataset consists of airplanes, dogs, cats, and other objects. You'll preprocess the images, then train a convolutional neural network on all the samples. The images need to be normalized and the labels need to be one-hot encoded.  You'll get to apply what you learned and build a convolutional, max pooling, dropout, and fully connected layers.  At the end, you'll get to see your neural network's predictions on the sample images.\n",
    "## Get the Data\n",
    "Run the following cell to download the [CIFAR-10 dataset for python](https://www.cs.toronto.edu/~kriz/cifar-10-python.tar.gz)."
   ]
  },
  {
   "cell_type": "code",
   "execution_count": 26,
   "metadata": {
    "collapsed": false,
    "deletable": true,
    "editable": true
   },
   "outputs": [
    {
     "name": "stdout",
     "output_type": "stream",
     "text": [
      "All files found!\n"
     ]
    }
   ],
   "source": [
    "\"\"\"\n",
    "DON'T MODIFY ANYTHING IN THIS CELL THAT IS BELOW THIS LINE\n",
    "\"\"\"\n",
    "from urllib.request import urlretrieve\n",
    "from os.path import isfile, isdir\n",
    "from tqdm import tqdm\n",
    "import problem_unittests as tests\n",
    "import tarfile\n",
    "\n",
    "cifar10_dataset_folder_path = 'cifar-10-batches-py'\n",
    "\n",
    "class DLProgress(tqdm):\n",
    "    last_block = 0\n",
    "\n",
    "    def hook(self, block_num=1, block_size=1, total_size=None):\n",
    "        self.total = total_size\n",
    "        self.update((block_num - self.last_block) * block_size)\n",
    "        self.last_block = block_num\n",
    "\n",
    "if not isfile('cifar-10-python.tar.gz'):\n",
    "    with DLProgress(unit='B', unit_scale=True, miniters=1, desc='CIFAR-10 Dataset') as pbar:\n",
    "        urlretrieve(\n",
    "            'https://www.cs.toronto.edu/~kriz/cifar-10-python.tar.gz',\n",
    "            'cifar-10-python.tar.gz',\n",
    "            pbar.hook)\n",
    "\n",
    "if not isdir(cifar10_dataset_folder_path):\n",
    "    with tarfile.open('cifar-10-python.tar.gz') as tar:\n",
    "        tar.extractall()\n",
    "        tar.close()\n",
    "\n",
    "\n",
    "tests.test_folder_path(cifar10_dataset_folder_path)"
   ]
  },
  {
   "cell_type": "markdown",
   "metadata": {
    "deletable": true,
    "editable": true
   },
   "source": [
    "## Explore the Data\n",
    "The dataset is broken into batches to prevent your machine from running out of memory.  The CIFAR-10 dataset consists of 5 batches, named `data_batch_1`, `data_batch_2`, etc.. Each batch contains the labels and images that are one of the following:\n",
    "* airplane\n",
    "* automobile\n",
    "* bird\n",
    "* cat\n",
    "* deer\n",
    "* dog\n",
    "* frog\n",
    "* horse\n",
    "* ship\n",
    "* truck\n",
    "\n",
    "Understanding a dataset is part of making predictions on the data.  Play around with the code cell below by changing the `batch_id` and `sample_id`. The `batch_id` is the id for a batch (1-5). The `sample_id` is the id for a image and label pair in the batch.\n",
    "\n",
    "Ask yourself \"What are all possible labels?\", \"What is the range of values for the image data?\", \"Are the labels in order or random?\".  Answers to questions like these will help you preprocess the data and end up with better predictions."
   ]
  },
  {
   "cell_type": "code",
   "execution_count": 27,
   "metadata": {
    "collapsed": false,
    "deletable": true,
    "editable": true
   },
   "outputs": [
    {
     "name": "stdout",
     "output_type": "stream",
     "text": [
      "\n",
      "Stats of batch 1:\n",
      "Samples: 10000\n",
      "Label Counts: {0: 1005, 1: 974, 2: 1032, 3: 1016, 4: 999, 5: 937, 6: 1030, 7: 1001, 8: 1025, 9: 981}\n",
      "First 20 Labels: [6, 9, 9, 4, 1, 1, 2, 7, 8, 3, 4, 7, 7, 2, 9, 9, 9, 3, 2, 6]\n",
      "\n",
      "Example of Image 5:\n",
      "Image - Min Value: 0 Max Value: 252\n",
      "Image - Shape: (32, 32, 3)\n",
      "Label - Label Id: 1 Name: automobile\n"
     ]
    },
    {
     "data": {
      "image/png": "[encoded data removed]",
      "text/plain": [
       "<matplotlib.figure.Figure at 0x7f4c44debf60>"
      ]
     },
     "metadata": {
      "image/png": {
       "height": 250,
       "width": 253
      }
     },
     "output_type": "display_data"
    }
   ],
   "source": [
    "%matplotlib inline\n",
    "%config InlineBackend.figure_format = 'retina'\n",
    "\n",
    "import helper\n",
    "import numpy as np\n",
    "\n",
    "# Explore the dataset\n",
    "batch_id = 1\n",
    "sample_id = 5\n",
    "helper.display_stats(cifar10_dataset_folder_path, batch_id, sample_id)"
   ]
  },
  {
   "cell_type": "markdown",
   "metadata": {
    "deletable": true,
    "editable": true
   },
   "source": [
    "## Implement Preprocess Functions\n",
    "### Normalize\n",
    "In the cell below, implement the `normalize` function to take in image data, `x`, and return it as a normalized Numpy array. The values should be in the range of 0 to 1, inclusive.  The return object should be the same shape as `x`."
   ]
  },
  {
   "cell_type": "code",
   "execution_count": 28,
   "metadata": {
    "collapsed": false,
    "deletable": true,
    "editable": true
   },
   "outputs": [
    {
     "name": "stdout",
     "output_type": "stream",
     "text": [
      "Tests Passed\n"
     ]
    }
   ],
   "source": [
    "def normalize(x):\n",
    "    \"\"\"\n",
    "    Normalize a list of sample image data in the range of 0 to 1\n",
    "    : x: List of image data.  The image shape is (32, 32, 3)\n",
    "    : return: Numpy array of normalize data\n",
    "    \"\"\"\n",
    "    # TODO: Implement Function\n",
    "    return np.array(x/255.0)\n",
    "\n",
    "\n",
    "\"\"\"\n",
    "DON'T MODIFY ANYTHING IN THIS CELL THAT IS BELOW THIS LINE\n",
    "\"\"\"\n",
    "tests.test_normalize(normalize)"
   ]
  },
  {
   "cell_type": "markdown",
   "metadata": {
    "deletable": true,
    "editable": true
   },
   "source": [
    "### One-hot encode\n",
    "Just like the previous code cell, you'll be implementing a function for preprocessing.  This time, you'll implement the `one_hot_encode` function. The input, `x`, are a list of labels.  Implement the function to return the list of labels as One-Hot encoded Numpy array.  The possible values for labels are 0 to 9. The one-hot encoding function should return the same encoding for each value between each call to `one_hot_encode`.  Make sure to save the map of encodings outside the function.\n",
    "\n",
    "Hint: Don't reinvent the wheel."
   ]
  },
  {
   "cell_type": "code",
   "execution_count": 44,
   "metadata": {
    "collapsed": false,
    "deletable": true,
    "editable": true
   },
   "outputs": [
    {
     "name": "stdout",
     "output_type": "stream",
     "text": [
      "Tests Passed\n"
     ]
    }
   ],
   "source": [
    "def one_hot_encode(x):\n",
    "    \"\"\"\n",
    "    One hot encode a list of sample labels. Return a one-hot encoded vector for each label.\n",
    "    : x: List of sample Labels\n",
    "    : return: Numpy array of one-hot encoded labels\n",
    "    \"\"\"\n",
    "    # TODO: Implement Function\n",
    "    one_hot = np.zeros((len(x), 10))\n",
    "    \n",
    "    for index in range(len(x)):\n",
    "        one_hot[index, x[index]] = 1\n",
    "    return one_hot\n",
    "\n",
    "\n",
    "\"\"\"\n",
    "DON'T MODIFY ANYTHING IN THIS CELL THAT IS BELOW THIS LINE\n",
    "\"\"\"\n",
    "tests.test_one_hot_encode(one_hot_encode)"
   ]
  },
  {
   "cell_type": "markdown",
   "metadata": {
    "deletable": true,
    "editable": true
   },
   "source": [
    "### Randomize Data\n",
    "As you saw from exploring the data above, the order of the samples are randomized.  It doesn't hurt to randomize it again, but you don't need to for this dataset."
   ]
  },
  {
   "cell_type": "markdown",
   "metadata": {
    "deletable": true,
    "editable": true
   },
   "source": [
    "## Preprocess all the data and save it\n",
    "Running the code cell below will preprocess all the CIFAR-10 data and save it to file. The code below also uses 10% of the training data for validation."
   ]
  },
  {
   "cell_type": "code",
   "execution_count": 30,
   "metadata": {
    "collapsed": false,
    "deletable": true,
    "editable": true
   },
   "outputs": [],
   "source": [
    "\"\"\"\n",
    "DON'T MODIFY ANYTHING IN THIS CELL\n",
    "\"\"\"\n",
    "# Preprocess Training, Validation, and Testing Data\n",
    "helper.preprocess_and_save_data(cifar10_dataset_folder_path, normalize, one_hot_encode)"
   ]
  },
  {
   "cell_type": "markdown",
   "metadata": {
    "deletable": true,
    "editable": true
   },
   "source": [
    "# Check Point\n",
    "This is your first checkpoint.  If you ever decide to come back to this notebook or have to restart the notebook, you can start from here.  The preprocessed data has been saved to disk."
   ]
  },
  {
   "cell_type": "code",
   "execution_count": 31,
   "metadata": {
    "collapsed": true,
    "deletable": true,
    "editable": true
   },
   "outputs": [],
   "source": [
    "\"\"\"\n",
    "DON'T MODIFY ANYTHING IN THIS CELL\n",
    "\"\"\"\n",
    "import pickle\n",
    "import problem_unittests as tests\n",
    "import helper\n",
    "import numpy as np\n",
    "import tensorflow as tf\n",
    "\n",
    "# Load the Preprocessed Validation data\n",
    "valid_features, valid_labels = pickle.load(open('preprocess_validation.p', mode='rb'))"
   ]
  },
  {
   "cell_type": "markdown",
   "metadata": {
    "deletable": true,
    "editable": true
   },
   "source": [
    "## Build the network\n",
    "For the neural network, you'll build each layer into a function.  Most of the code you've seen has been outside of functions. To test your code more thoroughly, we require that you put each layer in a function.  This allows us to give you better feedback and test for simple mistakes using our unittests before you submit your project.\n",
    "\n",
    ">**Note:** If you're finding it hard to dedicate enough time for this course each week, we've provided a small shortcut to this part of the project. In the next couple of problems, you'll have the option to use classes from the [TensorFlow Layers](https://www.tensorflow.org/api_docs/python/tf/layers) or [TensorFlow Layers (contrib)](https://www.tensorflow.org/api_guides/python/contrib.layers) packages to build each layer, except the layers you build in the \"Convolutional and Max Pooling Layer\" section.  TF Layers is similar to Keras's and TFLearn's abstraction to layers, so it's easy to pickup.\n",
    "\n",
    ">However, if you would like to get the most out of this course, try to solve all the problems _without_ using anything from the TF Layers packages. You **can** still use classes from other packages that happen to have the same name as ones you find in TF Layers! For example, instead of using the TF Layers version of the `conv2d` class, [tf.layers.conv2d](https://www.tensorflow.org/api_docs/python/tf/layers/conv2d), you would want to use the TF Neural Network version of `conv2d`, [tf.nn.conv2d](https://www.tensorflow.org/api_docs/python/tf/nn/conv2d). \n",
    "\n",
    "Let's begin!\n",
    "\n",
    "### Input\n",
    "The neural network needs to read the image data, one-hot encoded labels, and dropout keep probability. Implement the following functions\n",
    "* Implement `neural_net_image_input`\n",
    " * Return a [TF Placeholder](https://www.tensorflow.org/api_docs/python/tf/placeholder)\n",
    " * Set the shape using `image_shape` with batch size set to `None`.\n",
    " * Name the TensorFlow placeholder \"x\" using the TensorFlow `name` parameter in the [TF Placeholder](https://www.tensorflow.org/api_docs/python/tf/placeholder).\n",
    "* Implement `neural_net_label_input`\n",
    " * Return a [TF Placeholder](https://www.tensorflow.org/api_docs/python/tf/placeholder)\n",
    " * Set the shape using `n_classes` with batch size set to `None`.\n",
    " * Name the TensorFlow placeholder \"y\" using the TensorFlow `name` parameter in the [TF Placeholder](https://www.tensorflow.org/api_docs/python/tf/placeholder).\n",
    "* Implement `neural_net_keep_prob_input`\n",
    " * Return a [TF Placeholder](https://www.tensorflow.org/api_docs/python/tf/placeholder) for dropout keep probability.\n",
    " * Name the TensorFlow placeholder \"keep_prob\" using the TensorFlow `name` parameter in the [TF Placeholder](https://www.tensorflow.org/api_docs/python/tf/placeholder).\n",
    "\n",
    "These names will be used at the end of the project to load your saved model.\n",
    "\n",
    "Note: `None` for shapes in TensorFlow allow for a dynamic size."
   ]
  },
  {
   "cell_type": "code",
   "execution_count": 32,
   "metadata": {
    "collapsed": false,
    "deletable": true,
    "editable": true
   },
   "outputs": [
    {
     "name": "stdout",
     "output_type": "stream",
     "text": [
      "Image Input Tests Passed.\n",
      "Label Input Tests Passed.\n",
      "Keep Prob Tests Passed.\n"
     ]
    }
   ],
   "source": [
    "\n",
    "\n",
    "def neural_net_image_input(image_shape):\n",
    "    \"\"\"\n",
    "    Return a Tensor for a bach of image input\n",
    "    : image_shape: Shape of the images\n",
    "    : return: Tensor for image input.\n",
    "    \"\"\"\n",
    "    # TODO: Implement Function\n",
    "    \n",
    "    return tf.placeholder(tf.float32, \n",
    "                        [None,\n",
    "                        image_shape[0], \n",
    "                        image_shape[1],\n",
    "                        image_shape[2]],\n",
    "                        'x')\n",
    "\n",
    "\n",
    "def neural_net_label_input(n_classes):\n",
    "    \"\"\"\n",
    "    Return a Tensor for a batch of label input\n",
    "    : n_classes: Number of classes\n",
    "    : return: Tensor for label input.\n",
    "    \"\"\"\n",
    "    # TODO: Implement Function\n",
    "    return tf.placeholder(tf.float32,\n",
    "                          [None,\n",
    "                          n_classes], \n",
    "                          'y')\n",
    "\n",
    "\n",
    "def neural_net_keep_prob_input():\n",
    "    \"\"\"\n",
    "    Return a Tensor for keep probability\n",
    "    : return: Tensor for keep probability.\n",
    "    \"\"\"\n",
    "    # TODO: Implement Function\n",
    "    return tf.placeholder(tf.float32, name='keep_prob')\n",
    "\n",
    "\n",
    "\"\"\"\n",
    "DON'T MODIFY ANYTHING IN THIS CELL THAT IS BELOW THIS LINE\n",
    "\"\"\"\n",
    "tf.reset_default_graph()\n",
    "tests.test_nn_image_inputs(neural_net_image_input)\n",
    "tests.test_nn_label_inputs(neural_net_label_input)\n",
    "tests.test_nn_keep_prob_inputs(neural_net_keep_prob_input)"
   ]
  },
  {
   "cell_type": "markdown",
   "metadata": {
    "deletable": true,
    "editable": true
   },
   "source": [
    "### Convolution and Max Pooling Layer\n",
    "Convolution layers have a lot of success with images. For this code cell, you should implement the function `conv2d_maxpool` to apply convolution then max pooling:\n",
    "* Create the weight and bias using `conv_ksize`, `conv_num_outputs` and the shape of `x_tensor`.\n",
    "* Apply a convolution to `x_tensor` using weight and `conv_strides`.\n",
    " * We recommend you use same padding, but you're welcome to use any padding.\n",
    "* Add bias\n",
    "* Add a nonlinear activation to the convolution.\n",
    "* Apply Max Pooling using `pool_ksize` and `pool_strides`.\n",
    " * We recommend you use same padding, but you're welcome to use any padding.\n",
    "\n",
    "**Note:** You **can't** use [TensorFlow Layers](https://www.tensorflow.org/api_docs/python/tf/layers) or [TensorFlow Layers (contrib)](https://www.tensorflow.org/api_guides/python/contrib.layers) for **this** layer, but you can still use TensorFlow's [Neural Network](https://www.tensorflow.org/api_docs/python/tf/nn) package. You may still use the shortcut option for all the **other** layers."
   ]
  },
  {
   "cell_type": "code",
   "execution_count": 33,
   "metadata": {
    "collapsed": false,
    "deletable": true,
    "editable": true
   },
   "outputs": [
    {
     "name": "stdout",
     "output_type": "stream",
     "text": [
      "Tests Passed\n"
     ]
    }
   ],
   "source": [
    "def conv2d_maxpool(x_tensor, conv_num_outputs, conv_ksize, conv_strides, pool_ksize, pool_strides):\n",
    "    \"\"\"\n",
    "    Apply convolution then max pooling to x_tensor\n",
    "    :param x_tensor: TensorFlow Tensor\n",
    "    :param conv_num_outputs: Number of outputs for the convolutional layer\n",
    "    :param conv_ksize: kernal size 2-D Tuple for the convolutional layer\n",
    "    :param conv_strides: Stride 2-D Tuple for convolution\n",
    "    :param pool_ksize: kernal size 2-D Tuple for pool\n",
    "    :param pool_strides: Stride 2-D Tuple for pool\n",
    "    : return: A tensor that represents convolution and max pooling of x_tensor\n",
    "    \"\"\"\n",
    "    # TODO: Implement Function\n",
    "    num, width, height, depth = x_tensor.get_shape().as_list()\n",
    "    conv_width, conv_height = conv_ksize\n",
    "    conv_strides_width, conv_strides_height = conv_strides\n",
    "    pool_width, pool_height = pool_ksize\n",
    "    pool_stride_width, pool_stride_height = pool_strides\n",
    "    \n",
    "    w = tf.Variable(tf.truncated_normal([conv_width, conv_height, depth, conv_num_outputs], mean=0, stddev=0.01))\n",
    "    b = tf.Variable(tf.zeros(conv_num_outputs))\n",
    "    \n",
    "    x = tf.nn.conv2d(x_tensor, w, strides=[1, conv_strides_width, conv_strides_height, 1], padding='SAME')\n",
    "    x = tf.nn.bias_add(x, b)\n",
    "    non_linear = tf.nn.relu(x)\n",
    "    \n",
    "    maxpool = tf.nn.max_pool(\n",
    "        non_linear, \n",
    "        ksize = [1, pool_width, pool_height, 1] ,\n",
    "        strides = [1, pool_stride_width, pool_stride_height, 1],\n",
    "        padding = 'SAME')\n",
    "    \n",
    "    return maxpool\n",
    "\n",
    "\n",
    "\"\"\"\n",
    "DON'T MODIFY ANYTHING IN THIS CELL THAT IS BELOW THIS LINE\n",
    "\"\"\"\n",
    "tests.test_con_pool(conv2d_maxpool)"
   ]
  },
  {
   "cell_type": "markdown",
   "metadata": {
    "deletable": true,
    "editable": true
   },
   "source": [
    "### Flatten Layer\n",
    "Implement the `flatten` function to change the dimension of `x_tensor` from a 4-D tensor to a 2-D tensor.  The output should be the shape (*Batch Size*, *Flattened Image Size*). Shortcut option: you can use classes from the [TensorFlow Layers](https://www.tensorflow.org/api_docs/python/tf/layers) or [TensorFlow Layers (contrib)](https://www.tensorflow.org/api_guides/python/contrib.layers) packages for this layer. For more of a challenge, only use other TensorFlow packages."
   ]
  },
  {
   "cell_type": "code",
   "execution_count": 51,
   "metadata": {
    "collapsed": false,
    "deletable": true,
    "editable": true
   },
   "outputs": [
    {
     "name": "stdout",
     "output_type": "stream",
     "text": [
      "Tests Passed\n"
     ]
    }
   ],
   "source": [
    "def flatten(x_tensor):\n",
    "    \"\"\"\n",
    "    Flatten x_tensor to (Batch Size, Flattened Image Size)\n",
    "    : x_tensor: A tensor of size (Batch Size, ...), where ... are the image dimensions.\n",
    "    : return: A tensor of size (Batch Size, Flattened Image Size).\n",
    "    \"\"\"\n",
    "    # TODO: Implement Function\n",
    "    tensor_in_shape = x_tensor.get_shape()\n",
    "    tensor_in_flat = tf.reshape(x_tensor, [-1, np.prod(tensor_in_shape[1:]).value])\n",
    "    return tensor_in_flat\n",
    "\n",
    "    #tensor_in_flat = tf.contrib.layers.flatten(x_tensor)\n",
    "    #return tensor_in_flat\n",
    "\"\"\"\n",
    "DON'T MODIFY ANYTHING IN THIS CELL THAT IS BELOW THIS LINE\n",
    "\"\"\"\n",
    "tests.test_flatten(flatten)"
   ]
  },
  {
   "cell_type": "code",
   "execution_count": 6,
   "metadata": {
    "collapsed": false,
    "deletable": true,
    "editable": true
   },
   "outputs": [
    {
     "name": "stdout",
     "output_type": "stream",
     "text": [
      "Tests Passed\n"
     ]
    }
   ],
   "source": [
    "def fully_conn(x_tensor, num_outputs):\n",
    "    \"\"\"\n",
    "    Apply a fully connected layer to x_tensor using weight and bias\n",
    "    : x_tensor: A 2-D tensor where the first dimension is batch size.\n",
    "    : num_outputs: The number of output that the new tensor should be.\n",
    "    : return: A 2-D tensor where the second dimension is num_outputs.\n",
    "    \"\"\"\n",
    "    # TODO: Implement Function\n",
    "    tensor_out = tf.contrib.layers.fully_connected(x_tensor, num_outputs=num_outputs, activation_fn = tf.nn.relu)\n",
    "    return tensor_out\n",
    "\n",
    "\n",
    "\"\"\"\n",
    "DON'T MODIFY ANYTHING IN THIS CELL THAT IS BELOW THIS LINE\n",
    "\"\"\"\n",
    "tests.test_fully_conn(fully_conn)"
   ]
  },
  {
   "cell_type": "markdown",
   "metadata": {
    "deletable": true,
    "editable": true
   },
   "source": [
    "### Fully-Connected Layer\n",
    "Implement the `fully_conn` function to apply a fully connected layer to `x_tensor` with the shape (*Batch Size*, *num_outputs*). Shortcut option: you can use classes from the [TensorFlow Layers](https://www.tensorflow.org/api_docs/python/tf/layers) or [TensorFlow Layers (contrib)](https://www.tensorflow.org/api_guides/python/contrib.layers) packages for this layer. For more of a challenge, only use other TensorFlow packages."
   ]
  },
  {
   "cell_type": "markdown",
   "metadata": {
    "deletable": true,
    "editable": true
   },
   "source": [
    "### Output Layer\n",
    "Implement the `output` function to apply a fully connected layer to `x_tensor` with the shape (*Batch Size*, *num_outputs*). Shortcut option: you can use classes from the [TensorFlow Layers](https://www.tensorflow.org/api_docs/python/tf/layers) or [TensorFlow Layers (contrib)](https://www.tensorflow.org/api_guides/python/contrib.layers) packages for this layer. For more of a challenge, only use other TensorFlow packages.\n",
    "\n",
    "**Note:** Activation, softmax, or cross entropy should **not** be applied to this."
   ]
  },
  {
   "cell_type": "code",
   "execution_count": 35,
   "metadata": {
    "collapsed": false,
    "deletable": true,
    "editable": true
   },
   "outputs": [
    {
     "name": "stdout",
     "output_type": "stream",
     "text": [
      "Tests Passed\n"
     ]
    }
   ],
   "source": [
    "def output(x_tensor, num_outputs):\n",
    "    \"\"\"\n",
    "    Apply a output layer to x_tensor using weight and bias\n",
    "    : x_tensor: A 2-D tensor where the first dimension is batch size.\n",
    "    : num_outputs: The number of output that the new tensor should be.\n",
    "    : return: A 2-D tensor where the second dimension is num_outputs.\n",
    "    \"\"\"\n",
    "    # TODO: Implement Function\n",
    "    y_tensor = tf.contrib.layers.fully_connected(x_tensor, num_outputs)\n",
    "    return y_tensor\n",
    "\n",
    "\n",
    "\"\"\"\n",
    "DON'T MODIFY ANYTHING IN THIS CELL THAT IS BELOW THIS LINE\n",
    "\"\"\"\n",
    "tests.test_output(output)"
   ]
  },
  {
   "cell_type": "markdown",
   "metadata": {
    "deletable": true,
    "editable": true
   },
   "source": [
    "### Create Convolutional Model\n",
    "Implement the function `conv_net` to create a convolutional neural network model. The function takes in a batch of images, `x`, and outputs logits.  Use the layers you created above to create this model:\n",
    "\n",
    "* Apply 1, 2, or 3 Convolution and Max Pool layers\n",
    "* Apply a Flatten Layer\n",
    "* Apply 1, 2, or 3 Fully Connected Layers\n",
    "* Apply an Output Layer\n",
    "* Return the output\n",
    "* Apply [TensorFlow's Dropout](https://www.tensorflow.org/api_docs/python/tf/nn/dropout) to one or more layers in the model using `keep_prob`. "
   ]
  },
  {
   "cell_type": "code",
   "execution_count": 66,
   "metadata": {
    "collapsed": false,
    "deletable": true,
    "editable": true
   },
   "outputs": [
    {
     "name": "stdout",
     "output_type": "stream",
     "text": [
      "Neural Network Built!\n"
     ]
    }
   ],
   "source": [
    "def conv_net(x, keep_prob):\n",
    "    \"\"\"\n",
    "    Create a convolutional neural network model\n",
    "    : x: Placeholder tensor that holds image data.\n",
    "    : keep_prob: Placeholder tensor that hold dropout keep probability.\n",
    "    : return: Tensor that represents logits\n",
    "    \"\"\"\n",
    "    # TODO: Apply 1, 2, or 3 Convolution and Max Pool layers\n",
    "    #    Play around with different number of outputs, kernel size and stride\n",
    "    # Function Definition from Above:\n",
    "    #    conv2d_maxpool(x_tensor, conv_num_outputs, conv_ksize, conv_strides, pool_ksize, pool_strides)\n",
    "    \n",
    "    conv_one = conv2d_maxpool(x, 64, [3, 3], [1, 1], [2, 2], [2, 2])\n",
    "    conv_two = conv2d_maxpool(conv_one, 128, [2, 2], [1, 1], [2, 2], [2, 2])\n",
    "    conv_three = conv2d_maxpool(conv_two, 256, [2, 2], [1, 1], [2, 2], [2, 2])\n",
    "\n",
    "    # TODO: Apply a Flatten Layer\n",
    "    # Function Definition from Above:\n",
    "    #   flatten(x_tensor)\n",
    "    flattened = flatten(conv_three)\n",
    "\n",
    "    # TODO: Apply 1, 2, or 3 Fully Connected Layers\n",
    "    #    Play around with different number of outputs\n",
    "    # Function Definition from Above:\n",
    "    #   fully_conn(x_tensor, num_outputs)\n",
    "    fully_conn_one = fully_conn(flattened, 256)\n",
    "    fully_conn_one = tf.nn.dropout(fully_conn_one, keep_prob=keep_prob)\n",
    "    \n",
    "    fully_conn_two = fully_conn(fully_conn_one, 256)\n",
    "    fully_conn_two = tf.nn.dropout(fully_conn_two, keep_prob)\n",
    "    \n",
    "    fully_conn_three = fully_conn(fully_conn_two, 256)\n",
    "    \n",
    "    # TODO: Apply an Output Layer\n",
    "    #    Set this to the number of classes\n",
    "    # Function Definition from Above:\n",
    "    #   output(x_tensor, num_outputs)\n",
    "    conv_out = output(fully_conn_three, 10)\n",
    "    \n",
    "    # TODO: return output\n",
    "    return conv_out\n",
    "\n",
    "\n",
    "\"\"\"\n",
    "DON'T MODIFY ANYTHING IN THIS CELL THAT IS BELOW THIS LINE\n",
    "\"\"\"\n",
    "\n",
    "##############################\n",
    "## Build the Neural Network ##\n",
    "##############################\n",
    "\n",
    "# Remove previous weights, bias, inputs, etc..\n",
    "tf.reset_default_graph()\n",
    "\n",
    "# Inputs\n",
    "x = neural_net_image_input((32, 32, 3))\n",
    "y = neural_net_label_input(10)\n",
    "keep_prob = neural_net_keep_prob_input()\n",
    "\n",
    "# Model\n",
    "logits = conv_net(x, keep_prob)\n",
    "\n",
    "# Name logits Tensor, so that is can be loaded from disk after training\n",
    "logits = tf.identity(logits, name='logits')\n",
    "\n",
    "# Loss and Optimizer\n",
    "cost = tf.reduce_mean(tf.nn.softmax_cross_entropy_with_logits(logits=logits, labels=y))\n",
    "optimizer = tf.train.AdamOptimizer().minimize(cost)\n",
    "\n",
    "# Accuracy\n",
    "correct_pred = tf.equal(tf.argmax(logits, 1), tf.argmax(y, 1))\n",
    "accuracy = tf.reduce_mean(tf.cast(correct_pred, tf.float32), name='accuracy')\n",
    "\n",
    "tests.test_conv_net(conv_net)"
   ]
  },
  {
   "cell_type": "markdown",
   "metadata": {
    "deletable": true,
    "editable": true
   },
   "source": [
    "## Train the Neural Network\n",
    "### Single Optimization\n",
    "Implement the function `train_neural_network` to do a single optimization.  The optimization should use `optimizer` to optimize in `session` with a `feed_dict` of the following:\n",
    "* `x` for image input\n",
    "* `y` for labels\n",
    "* `keep_prob` for keep probability for dropout\n",
    "\n",
    "This function will be called for each batch, so `tf.global_variables_initializer()` has already been called.\n",
    "\n",
    "Note: Nothing needs to be returned. This function is only optimizing the neural network."
   ]
  },
  {
   "cell_type": "code",
   "execution_count": 60,
   "metadata": {
    "collapsed": false,
    "deletable": true,
    "editable": true
   },
   "outputs": [
    {
     "name": "stdout",
     "output_type": "stream",
     "text": [
      "Tests Passed\n"
     ]
    }
   ],
   "source": [
    "def train_neural_network(session, optimizer, keep_probability, feature_batch, label_batch):\n",
    "    \"\"\"\n",
    "    Optimize the session on a batch of images and labels\n",
    "    : session: Current TensorFlow session\n",
    "    : optimizer: TensorFlow optimizer function\n",
    "    : keep_probability: keep probability\n",
    "    : feature_batch: Batch of Numpy image data\n",
    "    : label_batch: Batch of Numpy label data\n",
    "    \"\"\"\n",
    "    # TODO: Implement Function train_n_n\n",
    "    session.run(optimizer, feed_dict = {x: feature_batch, y: label_batch, keep_prob: keep_probability})\n",
    "\n",
    "\n",
    "\"\"\"\n",
    "DON'T MODIFY ANYTHING IN THIS CELL THAT IS BELOW THIS LINE\n",
    "\"\"\"\n",
    "tests.test_train_nn(train_neural_network)"
   ]
  },
  {
   "cell_type": "markdown",
   "metadata": {
    "deletable": true,
    "editable": true
   },
   "source": [
    "### Show Stats\n",
    "Implement the function `print_stats` to print loss and validation accuracy.  Use the global variables `valid_features` and `valid_labels` to calculate validation accuracy.  Use a keep probability of `1.0` to calculate the loss and validation accuracy."
   ]
  },
  {
   "cell_type": "code",
   "execution_count": 61,
   "metadata": {
    "collapsed": false,
    "deletable": true,
    "editable": true
   },
   "outputs": [],
   "source": [
    "def print_stats(session, feature_batch, label_batch, cost, accuracy):\n",
    "    \"\"\"\n",
    "    Print information about loss and validation accuracy\n",
    "    : session: Current TensorFlow session\n",
    "    : feature_batch: Batch of Numpy image data\n",
    "    : label_batch: Batch of Numpy label data\n",
    "    : cost: TensorFlow cost function\n",
    "    : accuracy: TensorFlow accuracy function\n",
    "    \"\"\"\n",
    "    loss = session.run(cost, feed_dict={x: feature_batch, y: label_batch, keep_prob: 1.0})\n",
    "    validation_accuracy = session.run(accuracy, feed_dict={x: valid_features, y: valid_labels, keep_prob: 1.0})\n",
    "    print('Loss: {:>10f} Validation Accuracy: {:.6f}'.format(loss, validation_accuracy))"
   ]
  },
  {
   "cell_type": "markdown",
   "metadata": {
    "deletable": true,
    "editable": true
   },
   "source": [
    "### Hyperparameters\n",
    "Tune the following parameters:\n",
    "* Set `epochs` to the number of iterations until the network stops learning or start overfitting\n",
    "* Set `batch_size` to the highest number that your machine has memory for.  Most people set them to common sizes of memory:\n",
    " * 64\n",
    " * 128\n",
    " * 256\n",
    " * ...\n",
    "* Set `keep_probability` to the probability of keeping a node using dropout"
   ]
  },
  {
   "cell_type": "code",
   "execution_count": 70,
   "metadata": {
    "collapsed": true,
    "deletable": true,
    "editable": true
   },
   "outputs": [],
   "source": [
    "# TODO: Tune Parameters\n",
    "epochs = 25\n",
    "batch_size = 256\n",
    "keep_probability = 0.5"
   ]
  },
  {
   "cell_type": "markdown",
   "metadata": {
    "deletable": true,
    "editable": true
   },
   "source": [
    "### Train on a Single CIFAR-10 Batch\n",
    "Instead of training the neural network on all the CIFAR-10 batches of data, let's use a single batch. This should save time while you iterate on the model to get a better accuracy.  Once the final validation accuracy is 50% or greater, run the model on all the data in the next section."
   ]
  },
  {
   "cell_type": "code",
   "execution_count": 69,
   "metadata": {
    "collapsed": false,
    "deletable": true,
    "editable": true,
    "scrolled": false
   },
   "outputs": [
    {
     "name": "stdout",
     "output_type": "stream",
     "text": [
      "Checking the Training on a Single Batch...\n",
      "Epoch  1, CIFAR-10 Batch 1:  Loss:   2.262152 Validation Accuracy: 0.171800\n",
      "Epoch  2, CIFAR-10 Batch 1:  Loss:   2.143869 Validation Accuracy: 0.289200\n",
      "Epoch  3, CIFAR-10 Batch 1:  Loss:   1.981524 Validation Accuracy: 0.353200\n",
      "Epoch  4, CIFAR-10 Batch 1:  Loss:   1.778749 Validation Accuracy: 0.382600\n",
      "Epoch  5, CIFAR-10 Batch 1:  Loss:   1.627640 Validation Accuracy: 0.416000\n",
      "Epoch  6, CIFAR-10 Batch 1:  Loss:   1.447847 Validation Accuracy: 0.434200\n",
      "Epoch  7, CIFAR-10 Batch 1:  Loss:   1.291101 Validation Accuracy: 0.459200\n",
      "Epoch  8, CIFAR-10 Batch 1:  Loss:   1.195757 Validation Accuracy: 0.465000\n",
      "Epoch  9, CIFAR-10 Batch 1:  Loss:   1.082828 Validation Accuracy: 0.485000\n",
      "Epoch 10, CIFAR-10 Batch 1:  Loss:   0.954823 Validation Accuracy: 0.504800\n",
      "Epoch 11, CIFAR-10 Batch 1:  Loss:   0.769471 Validation Accuracy: 0.546400\n",
      "Epoch 12, CIFAR-10 Batch 1:  Loss:   0.676362 Validation Accuracy: 0.575600\n",
      "Epoch 13, CIFAR-10 Batch 1:  Loss:   0.619194 Validation Accuracy: 0.579000\n",
      "Epoch 14, CIFAR-10 Batch 1:  Loss:   0.566164 Validation Accuracy: 0.560800\n",
      "Epoch 15, CIFAR-10 Batch 1:  Loss:   0.519597 Validation Accuracy: 0.583400\n",
      "Epoch 16, CIFAR-10 Batch 1:  Loss:   0.505847 Validation Accuracy: 0.587600\n",
      "Epoch 17, CIFAR-10 Batch 1:  Loss:   0.487813 Validation Accuracy: 0.573000\n",
      "Epoch 18, CIFAR-10 Batch 1:  Loss:   0.465625 Validation Accuracy: 0.586200\n",
      "Epoch 19, CIFAR-10 Batch 1:  Loss:   0.457532 Validation Accuracy: 0.547600\n",
      "Epoch 20, CIFAR-10 Batch 1:  Loss:   0.415094 Validation Accuracy: 0.567400\n",
      "Epoch 21, CIFAR-10 Batch 1:  Loss:   0.406537 Validation Accuracy: 0.573600\n",
      "Epoch 22, CIFAR-10 Batch 1:  Loss:   0.382291 Validation Accuracy: 0.567400\n",
      "Epoch 23, CIFAR-10 Batch 1:  Loss:   0.364986 Validation Accuracy: 0.576000\n",
      "Epoch 24, CIFAR-10 Batch 1:  Loss:   0.366209 Validation Accuracy: 0.575600\n",
      "Epoch 25, CIFAR-10 Batch 1:  Loss:   0.343527 Validation Accuracy: 0.593200\n",
      "Epoch 26, CIFAR-10 Batch 1:  Loss:   0.328249 Validation Accuracy: 0.582200\n",
      "Epoch 27, CIFAR-10 Batch 1:  Loss:   0.334801 Validation Accuracy: 0.585400\n",
      "Epoch 28, CIFAR-10 Batch 1:  Loss:   0.316220 Validation Accuracy: 0.589600\n",
      "Epoch 29, CIFAR-10 Batch 1:  Loss:   0.305991 Validation Accuracy: 0.586000\n",
      "Epoch 30, CIFAR-10 Batch 1:  Loss:   0.312353 Validation Accuracy: 0.569600\n",
      "Epoch 31, CIFAR-10 Batch 1:  Loss:   0.300369 Validation Accuracy: 0.567600\n",
      "Epoch 32, CIFAR-10 Batch 1:  Loss:   0.308770 Validation Accuracy: 0.594400\n",
      "Epoch 33, CIFAR-10 Batch 1:  Loss:   0.302298 Validation Accuracy: 0.595600\n",
      "Epoch 34, CIFAR-10 Batch 1:  Loss:   0.297461 Validation Accuracy: 0.582200\n",
      "Epoch 35, CIFAR-10 Batch 1:  Loss:   0.303648 Validation Accuracy: 0.570000\n",
      "Epoch 36, CIFAR-10 Batch 1:  Loss:   0.297830 Validation Accuracy: 0.590800\n",
      "Epoch 37, CIFAR-10 Batch 1:  Loss:   0.308253 Validation Accuracy: 0.574800\n",
      "Epoch 38, CIFAR-10 Batch 1:  Loss:   0.294559 Validation Accuracy: 0.597200\n",
      "Epoch 39, CIFAR-10 Batch 1:  Loss:   0.292985 Validation Accuracy: 0.599600\n",
      "Epoch 40, CIFAR-10 Batch 1:  Loss:   0.294882 Validation Accuracy: 0.585400\n",
      "Epoch 41, CIFAR-10 Batch 1:  Loss:   0.297929 Validation Accuracy: 0.598800\n",
      "Epoch 42, CIFAR-10 Batch 1:  Loss:   0.291258 Validation Accuracy: 0.598800\n",
      "Epoch 43, CIFAR-10 Batch 1:  Loss:   0.293487 Validation Accuracy: 0.600400\n",
      "Epoch 44, CIFAR-10 Batch 1:  Loss:   0.295001 Validation Accuracy: 0.593600\n",
      "Epoch 45, CIFAR-10 Batch 1:  Loss:   0.293521 Validation Accuracy: 0.583000\n",
      "Epoch 46, CIFAR-10 Batch 1:  Loss:   0.291432 Validation Accuracy: 0.596200\n",
      "Epoch 47, CIFAR-10 Batch 1:  Loss:   0.290272 Validation Accuracy: 0.599200\n",
      "Epoch 48, CIFAR-10 Batch 1:  Loss:   0.289598 Validation Accuracy: 0.595200\n",
      "Epoch 49, CIFAR-10 Batch 1:  Loss:   0.291804 Validation Accuracy: 0.594600\n",
      "Epoch 50, CIFAR-10 Batch 1:  Loss:   0.291088 Validation Accuracy: 0.592600\n"
     ]
    }
   ],
   "source": [
    "\"\"\"\n",
    "DON'T MODIFY ANYTHING IN THIS CELL\n",
    "\"\"\"\n",
    "print('Checking the Training on a Single Batch...')\n",
    "with tf.Session() as sess:\n",
    "    # Initializing the variables\n",
    "    sess.run(tf.global_variables_initializer())\n",
    "    \n",
    "    # Training cycle\n",
    "    for epoch in range(epochs):\n",
    "        batch_i = 1\n",
    "        for batch_features, batch_labels in helper.load_preprocess_training_batch(batch_i, batch_size):\n",
    "            train_neural_network(sess, optimizer, keep_probability, batch_features, batch_labels)\n",
    "        print('Epoch {:>2}, CIFAR-10 Batch {}:  '.format(epoch + 1, batch_i), end='')\n",
    "        print_stats(sess, batch_features, batch_labels, cost, accuracy)"
   ]
  },
  {
   "cell_type": "markdown",
   "metadata": {
    "deletable": true,
    "editable": true
   },
   "source": [
    "### Fully Train the Model\n",
    "Now that you got a good accuracy with a single CIFAR-10 batch, try it with all five batches."
   ]
  },
  {
   "cell_type": "code",
   "execution_count": 72,
   "metadata": {
    "collapsed": false,
    "deletable": true,
    "editable": true
   },
   "outputs": [
    {
     "name": "stdout",
     "output_type": "stream",
     "text": [
      "Training...\n",
      "Epoch  1, CIFAR-10 Batch 1:  Loss:   2.261402 Validation Accuracy: 0.097800\n",
      "Epoch  1, CIFAR-10 Batch 2:  Loss:   2.134072 Validation Accuracy: 0.274800\n",
      "Epoch  1, CIFAR-10 Batch 3:  Loss:   1.856017 Validation Accuracy: 0.313200\n",
      "Epoch  1, CIFAR-10 Batch 4:  Loss:   1.825800 Validation Accuracy: 0.385000\n",
      "Epoch  1, CIFAR-10 Batch 5:  Loss:   1.592970 Validation Accuracy: 0.405800\n",
      "Epoch  2, CIFAR-10 Batch 1:  Loss:   1.664829 Validation Accuracy: 0.423200\n",
      "Epoch  2, CIFAR-10 Batch 2:  Loss:   1.442234 Validation Accuracy: 0.460400\n",
      "Epoch  2, CIFAR-10 Batch 3:  Loss:   1.302492 Validation Accuracy: 0.454400\n",
      "Epoch  2, CIFAR-10 Batch 4:  Loss:   1.301094 Validation Accuracy: 0.474600\n",
      "Epoch  2, CIFAR-10 Batch 5:  Loss:   1.168220 Validation Accuracy: 0.506000\n",
      "Epoch  3, CIFAR-10 Batch 1:  Loss:   1.425499 Validation Accuracy: 0.518800\n",
      "Epoch  3, CIFAR-10 Batch 2:  Loss:   1.269088 Validation Accuracy: 0.472000\n",
      "Epoch  3, CIFAR-10 Batch 3:  Loss:   1.094576 Validation Accuracy: 0.500200\n",
      "Epoch  3, CIFAR-10 Batch 4:  Loss:   1.048266 Validation Accuracy: 0.538000\n",
      "Epoch  3, CIFAR-10 Batch 5:  Loss:   0.972289 Validation Accuracy: 0.538800\n",
      "Epoch  4, CIFAR-10 Batch 1:  Loss:   1.182097 Validation Accuracy: 0.564800\n",
      "Epoch  4, CIFAR-10 Batch 2:  Loss:   1.075961 Validation Accuracy: 0.530600\n",
      "Epoch  4, CIFAR-10 Batch 3:  Loss:   0.875876 Validation Accuracy: 0.538400\n",
      "Epoch  4, CIFAR-10 Batch 4:  Loss:   0.897562 Validation Accuracy: 0.554800\n",
      "Epoch  4, CIFAR-10 Batch 5:  Loss:   0.739002 Validation Accuracy: 0.575200\n",
      "Epoch  5, CIFAR-10 Batch 1:  Loss:   1.000041 Validation Accuracy: 0.580200\n",
      "Epoch  5, CIFAR-10 Batch 2:  Loss:   0.854993 Validation Accuracy: 0.579800\n",
      "Epoch  5, CIFAR-10 Batch 3:  Loss:   0.723024 Validation Accuracy: 0.577400\n",
      "Epoch  5, CIFAR-10 Batch 4:  Loss:   0.715674 Validation Accuracy: 0.595000\n",
      "Epoch  5, CIFAR-10 Batch 5:  Loss:   0.594185 Validation Accuracy: 0.599000\n",
      "Epoch  6, CIFAR-10 Batch 1:  Loss:   0.909502 Validation Accuracy: 0.589800\n",
      "Epoch  6, CIFAR-10 Batch 2:  Loss:   0.785120 Validation Accuracy: 0.605400\n",
      "Epoch  6, CIFAR-10 Batch 3:  Loss:   0.621458 Validation Accuracy: 0.598200\n",
      "Epoch  6, CIFAR-10 Batch 4:  Loss:   0.664988 Validation Accuracy: 0.611000\n",
      "Epoch  6, CIFAR-10 Batch 5:  Loss:   0.526941 Validation Accuracy: 0.613800\n",
      "Epoch  7, CIFAR-10 Batch 1:  Loss:   0.745705 Validation Accuracy: 0.616600\n",
      "Epoch  7, CIFAR-10 Batch 2:  Loss:   0.701351 Validation Accuracy: 0.616000\n",
      "Epoch  7, CIFAR-10 Batch 3:  Loss:   0.553800 Validation Accuracy: 0.618000\n",
      "Epoch  7, CIFAR-10 Batch 4:  Loss:   0.517512 Validation Accuracy: 0.635200\n",
      "Epoch  7, CIFAR-10 Batch 5:  Loss:   0.451791 Validation Accuracy: 0.633400\n",
      "Epoch  8, CIFAR-10 Batch 1:  Loss:   0.742882 Validation Accuracy: 0.597600\n",
      "Epoch  8, CIFAR-10 Batch 2:  Loss:   0.606754 Validation Accuracy: 0.633800\n",
      "Epoch  8, CIFAR-10 Batch 3:  Loss:   0.481015 Validation Accuracy: 0.624400\n",
      "Epoch  8, CIFAR-10 Batch 4:  Loss:   0.508580 Validation Accuracy: 0.628000\n",
      "Epoch  8, CIFAR-10 Batch 5:  Loss:   0.371642 Validation Accuracy: 0.638800\n",
      "Epoch  9, CIFAR-10 Batch 1:  Loss:   0.676506 Validation Accuracy: 0.634600\n",
      "Epoch  9, CIFAR-10 Batch 2:  Loss:   0.572026 Validation Accuracy: 0.637600\n",
      "Epoch  9, CIFAR-10 Batch 3:  Loss:   0.439208 Validation Accuracy: 0.619600\n",
      "Epoch  9, CIFAR-10 Batch 4:  Loss:   0.403185 Validation Accuracy: 0.641400\n",
      "Epoch  9, CIFAR-10 Batch 5:  Loss:   0.336074 Validation Accuracy: 0.642800\n",
      "Epoch 10, CIFAR-10 Batch 1:  Loss:   0.676346 Validation Accuracy: 0.639200\n",
      "Epoch 10, CIFAR-10 Batch 2:  Loss:   0.486124 Validation Accuracy: 0.637400\n",
      "Epoch 10, CIFAR-10 Batch 3:  Loss:   0.419089 Validation Accuracy: 0.647000\n",
      "Epoch 10, CIFAR-10 Batch 4:  Loss:   0.412925 Validation Accuracy: 0.638200\n",
      "Epoch 10, CIFAR-10 Batch 5:  Loss:   0.309211 Validation Accuracy: 0.650000\n",
      "Epoch 11, CIFAR-10 Batch 1:  Loss:   0.626339 Validation Accuracy: 0.613400\n",
      "Epoch 11, CIFAR-10 Batch 2:  Loss:   0.473924 Validation Accuracy: 0.640000\n",
      "Epoch 11, CIFAR-10 Batch 3:  Loss:   0.423102 Validation Accuracy: 0.645000\n",
      "Epoch 11, CIFAR-10 Batch 4:  Loss:   0.375826 Validation Accuracy: 0.643000\n",
      "Epoch 11, CIFAR-10 Batch 5:  Loss:   0.270767 Validation Accuracy: 0.644800\n",
      "Epoch 12, CIFAR-10 Batch 1:  Loss:   0.614006 Validation Accuracy: 0.640200\n",
      "Epoch 12, CIFAR-10 Batch 2:  Loss:   0.426163 Validation Accuracy: 0.651200\n",
      "Epoch 12, CIFAR-10 Batch 3:  Loss:   0.400333 Validation Accuracy: 0.641000\n",
      "Epoch 12, CIFAR-10 Batch 4:  Loss:   0.346036 Validation Accuracy: 0.643400\n",
      "Epoch 12, CIFAR-10 Batch 5:  Loss:   0.210582 Validation Accuracy: 0.650800\n",
      "Epoch 13, CIFAR-10 Batch 1:  Loss:   0.580372 Validation Accuracy: 0.632800\n",
      "Epoch 13, CIFAR-10 Batch 2:  Loss:   0.428760 Validation Accuracy: 0.643000\n",
      "Epoch 13, CIFAR-10 Batch 3:  Loss:   0.393013 Validation Accuracy: 0.651400\n",
      "Epoch 13, CIFAR-10 Batch 4:  Loss:   0.333474 Validation Accuracy: 0.654000\n",
      "Epoch 13, CIFAR-10 Batch 5:  Loss:   0.210685 Validation Accuracy: 0.662600\n",
      "Epoch 14, CIFAR-10 Batch 1:  Loss:   0.631214 Validation Accuracy: 0.631200\n",
      "Epoch 14, CIFAR-10 Batch 2:  Loss:   0.378845 Validation Accuracy: 0.648400\n",
      "Epoch 14, CIFAR-10 Batch 3:  Loss:   0.367289 Validation Accuracy: 0.655800\n",
      "Epoch 14, CIFAR-10 Batch 4:  Loss:   0.309711 Validation Accuracy: 0.649000\n",
      "Epoch 14, CIFAR-10 Batch 5:  Loss:   0.189005 Validation Accuracy: 0.653400\n",
      "Epoch 15, CIFAR-10 Batch 1:  Loss:   0.571413 Validation Accuracy: 0.645200\n",
      "Epoch 15, CIFAR-10 Batch 2:  Loss:   0.365446 Validation Accuracy: 0.658200\n",
      "Epoch 15, CIFAR-10 Batch 3:  Loss:   0.348589 Validation Accuracy: 0.653600\n",
      "Epoch 15, CIFAR-10 Batch 4:  Loss:   0.294873 Validation Accuracy: 0.653400\n",
      "Epoch 15, CIFAR-10 Batch 5:  Loss:   0.187690 Validation Accuracy: 0.660600\n",
      "Epoch 16, CIFAR-10 Batch 1:  Loss:   0.495084 Validation Accuracy: 0.640200\n",
      "Epoch 16, CIFAR-10 Batch 2:  Loss:   0.347100 Validation Accuracy: 0.658600\n",
      "Epoch 16, CIFAR-10 Batch 3:  Loss:   0.351588 Validation Accuracy: 0.657200\n",
      "Epoch 16, CIFAR-10 Batch 4:  Loss:   0.223734 Validation Accuracy: 0.656000\n",
      "Epoch 16, CIFAR-10 Batch 5:  Loss:   0.145053 Validation Accuracy: 0.664800\n",
      "Epoch 17, CIFAR-10 Batch 1:  Loss:   0.491541 Validation Accuracy: 0.653200\n",
      "Epoch 17, CIFAR-10 Batch 2:  Loss:   0.339494 Validation Accuracy: 0.656400\n",
      "Epoch 17, CIFAR-10 Batch 3:  Loss:   0.321179 Validation Accuracy: 0.655800\n",
      "Epoch 17, CIFAR-10 Batch 4:  Loss:   0.231371 Validation Accuracy: 0.632400\n",
      "Epoch 17, CIFAR-10 Batch 5:  Loss:   0.161845 Validation Accuracy: 0.659200\n",
      "Epoch 18, CIFAR-10 Batch 1:  Loss:   0.510535 Validation Accuracy: 0.651200\n",
      "Epoch 18, CIFAR-10 Batch 2:  Loss:   0.340351 Validation Accuracy: 0.658000\n",
      "Epoch 18, CIFAR-10 Batch 3:  Loss:   0.349569 Validation Accuracy: 0.642400\n",
      "Epoch 18, CIFAR-10 Batch 4:  Loss:   0.209448 Validation Accuracy: 0.657600\n",
      "Epoch 18, CIFAR-10 Batch 5:  Loss:   0.140597 Validation Accuracy: 0.666000\n",
      "Epoch 19, CIFAR-10 Batch 1:  Loss:   0.467587 Validation Accuracy: 0.642600\n",
      "Epoch 19, CIFAR-10 Batch 2:  Loss:   0.331883 Validation Accuracy: 0.657000\n",
      "Epoch 19, CIFAR-10 Batch 3:  Loss:   0.322487 Validation Accuracy: 0.658200\n",
      "Epoch 19, CIFAR-10 Batch 4:  Loss:   0.215456 Validation Accuracy: 0.651400\n",
      "Epoch 19, CIFAR-10 Batch 5:  Loss:   0.125360 Validation Accuracy: 0.652400\n",
      "Epoch 20, CIFAR-10 Batch 1:  Loss:   0.452103 Validation Accuracy: 0.648600\n",
      "Epoch 20, CIFAR-10 Batch 2:  Loss:   0.350145 Validation Accuracy: 0.640000\n",
      "Epoch 20, CIFAR-10 Batch 3:  Loss:   0.320612 Validation Accuracy: 0.655200\n",
      "Epoch 20, CIFAR-10 Batch 4:  Loss:   0.206499 Validation Accuracy: 0.654600\n",
      "Epoch 20, CIFAR-10 Batch 5:  Loss:   0.124572 Validation Accuracy: 0.658200\n",
      "Epoch 21, CIFAR-10 Batch 1:  Loss:   0.419310 Validation Accuracy: 0.656600\n",
      "Epoch 21, CIFAR-10 Batch 2:  Loss:   0.297009 Validation Accuracy: 0.650400\n",
      "Epoch 21, CIFAR-10 Batch 3:  Loss:   0.295924 Validation Accuracy: 0.657200\n",
      "Epoch 21, CIFAR-10 Batch 4:  Loss:   0.179445 Validation Accuracy: 0.655000\n",
      "Epoch 21, CIFAR-10 Batch 5:  Loss:   0.105277 Validation Accuracy: 0.652000\n",
      "Epoch 22, CIFAR-10 Batch 1:  Loss:   0.456221 Validation Accuracy: 0.647000\n",
      "Epoch 22, CIFAR-10 Batch 2:  Loss:   0.296778 Validation Accuracy: 0.657600\n",
      "Epoch 22, CIFAR-10 Batch 3:  Loss:   0.306305 Validation Accuracy: 0.656000\n",
      "Epoch 22, CIFAR-10 Batch 4:  Loss:   0.176567 Validation Accuracy: 0.668600\n",
      "Epoch 22, CIFAR-10 Batch 5:  Loss:   0.107200 Validation Accuracy: 0.651600\n",
      "Epoch 23, CIFAR-10 Batch 1:  Loss:   0.408469 Validation Accuracy: 0.656800\n",
      "Epoch 23, CIFAR-10 Batch 2:  Loss:   0.311489 Validation Accuracy: 0.651000\n",
      "Epoch 23, CIFAR-10 Batch 3:  Loss:   0.315744 Validation Accuracy: 0.648600\n",
      "Epoch 23, CIFAR-10 Batch 4:  Loss:   0.176707 Validation Accuracy: 0.656600\n",
      "Epoch 23, CIFAR-10 Batch 5:  Loss:   0.097194 Validation Accuracy: 0.661400\n",
      "Epoch 24, CIFAR-10 Batch 1:  Loss:   0.425447 Validation Accuracy: 0.655800\n",
      "Epoch 24, CIFAR-10 Batch 2:  Loss:   0.291080 Validation Accuracy: 0.646800\n",
      "Epoch 24, CIFAR-10 Batch 3:  Loss:   0.307689 Validation Accuracy: 0.652200\n",
      "Epoch 24, CIFAR-10 Batch 4:  Loss:   0.157957 Validation Accuracy: 0.656800\n",
      "Epoch 24, CIFAR-10 Batch 5:  Loss:   0.106312 Validation Accuracy: 0.654000\n",
      "Epoch 25, CIFAR-10 Batch 1:  Loss:   0.411269 Validation Accuracy: 0.642200\n",
      "Epoch 25, CIFAR-10 Batch 2:  Loss:   0.286637 Validation Accuracy: 0.660000\n",
      "Epoch 25, CIFAR-10 Batch 3:  Loss:   0.290533 Validation Accuracy: 0.656600\n",
      "Epoch 25, CIFAR-10 Batch 4:  Loss:   0.167511 Validation Accuracy: 0.649200\n",
      "Epoch 25, CIFAR-10 Batch 5:  Loss:   0.105670 Validation Accuracy: 0.648200\n"
     ]
    }
   ],
   "source": [
    "\"\"\"\n",
    "DON'T MODIFY ANYTHING IN THIS CELL\n",
    "\"\"\"\n",
    "save_model_path = './image_classification'\n",
    "\n",
    "print('Training...')\n",
    "with tf.Session() as sess:\n",
    "    # Initializing the variables\n",
    "    sess.run(tf.global_variables_initializer())\n",
    "    \n",
    "    # Training cycle\n",
    "    for epoch in range(epochs):\n",
    "        # Loop over all batches\n",
    "        n_batches = 5\n",
    "        for batch_i in range(1, n_batches + 1):\n",
    "            for batch_features, batch_labels in helper.load_preprocess_training_batch(batch_i, batch_size):\n",
    "                train_neural_network(sess, optimizer, keep_probability, batch_features, batch_labels)\n",
    "            print('Epoch {:>2}, CIFAR-10 Batch {}:  '.format(epoch + 1, batch_i), end='')\n",
    "            print_stats(sess, batch_features, batch_labels, cost, accuracy)\n",
    "            \n",
    "    # Save Model\n",
    "    saver = tf.train.Saver()\n",
    "    save_path = saver.save(sess, save_model_path)"
   ]
  },
  {
   "cell_type": "markdown",
   "metadata": {
    "deletable": true,
    "editable": true
   },
   "source": [
    "# Checkpoint\n",
    "The model has been saved to disk.\n",
    "## Test Model\n",
    "Test your model against the test dataset.  This will be your final accuracy. You should have an accuracy greater than 50%. If you don't, keep tweaking the model architecture and parameters."
   ]
  },
  {
   "cell_type": "code",
   "execution_count": 73,
   "metadata": {
    "collapsed": false,
    "deletable": true,
    "editable": true
   },
   "outputs": [
    {
     "name": "stdout",
     "output_type": "stream",
     "text": [
      "Testing Accuracy: 0.6453125\n",
      "\n"
     ]
    },
    {
     "data": {
      "image/png": "[encoded data removed]",
      "text/plain": [
       "<matplotlib.figure.Figure at 0x7f4c8041c940>"
      ]
     },
     "metadata": {
      "image/png": {
       "height": 319,
       "width": 355
      }
     },
     "output_type": "display_data"
    }
   ],
   "source": [
    "\"\"\"\n",
    "DON'T MODIFY ANYTHING IN THIS CELL\n",
    "\"\"\"\n",
    "%matplotlib inline\n",
    "%config InlineBackend.figure_format = 'retina'\n",
    "\n",
    "import tensorflow as tf\n",
    "import pickle\n",
    "import helper\n",
    "import random\n",
    "\n",
    "# Set batch size if not already set\n",
    "try:\n",
    "    if batch_size:\n",
    "        pass\n",
    "except NameError:\n",
    "    batch_size = 64\n",
    "\n",
    "save_model_path = './image_classification'\n",
    "n_samples = 4\n",
    "top_n_predictions = 3\n",
    "\n",
    "def test_model():\n",
    "    \"\"\"\n",
    "    Test the saved model against the test dataset\n",
    "    \"\"\"\n",
    "\n",
    "    test_features, test_labels = pickle.load(open('preprocess_training.p', mode='rb'))\n",
    "    loaded_graph = tf.Graph()\n",
    "\n",
    "    with tf.Session(graph=loaded_graph) as sess:\n",
    "        # Load model\n",
    "        loader = tf.train.import_meta_graph(save_model_path + '.meta')\n",
    "        loader.restore(sess, save_model_path)\n",
    "\n",
    "        # Get Tensors from loaded model\n",
    "        loaded_x = loaded_graph.get_tensor_by_name('x:0')\n",
    "        loaded_y = loaded_graph.get_tensor_by_name('y:0')\n",
    "        loaded_keep_prob = loaded_graph.get_tensor_by_name('keep_prob:0')\n",
    "        loaded_logits = loaded_graph.get_tensor_by_name('logits:0')\n",
    "        loaded_acc = loaded_graph.get_tensor_by_name('accuracy:0')\n",
    "        \n",
    "        # Get accuracy in batches for memory limitations\n",
    "        test_batch_acc_total = 0\n",
    "        test_batch_count = 0\n",
    "        \n",
    "        for train_feature_batch, train_label_batch in helper.batch_features_labels(test_features, test_labels, batch_size):\n",
    "            test_batch_acc_total += sess.run(\n",
    "                loaded_acc,\n",
    "                feed_dict={loaded_x: train_feature_batch, loaded_y: train_label_batch, loaded_keep_prob: 1.0})\n",
    "            test_batch_count += 1\n",
    "\n",
    "        print('Testing Accuracy: {}\\n'.format(test_batch_acc_total/test_batch_count))\n",
    "\n",
    "        # Print Random Samples\n",
    "        random_test_features, random_test_labels = tuple(zip(*random.sample(list(zip(test_features, test_labels)), n_samples)))\n",
    "        random_test_predictions = sess.run(\n",
    "            tf.nn.top_k(tf.nn.softmax(loaded_logits), top_n_predictions),\n",
    "            feed_dict={loaded_x: random_test_features, loaded_y: random_test_labels, loaded_keep_prob: 1.0})\n",
    "        helper.display_image_predictions(random_test_features, random_test_labels, random_test_predictions)\n",
    "\n",
    "\n",
    "test_model()"
   ]
  },
  {
   "cell_type": "markdown",
   "metadata": {
    "deletable": true,
    "editable": true
   },
   "source": [
    "## Why 50-70% Accuracy?\n",
    "You might be wondering why you can't get an accuracy any higher. First things first, 50% isn't bad for a simple CNN.  Pure guessing would get you 10% accuracy. However, you might notice people are getting scores [well above 70%](http://rodrigob.github.io/are_we_there_yet/build/classification_datasets_results.html#43494641522d3130).  That's because we haven't taught you all there is to know about neural networks. We still need to cover a few more techniques.\n",
    "## Submitting This Project\n",
    "When submitting this project, make sure to run all the cells before saving the notebook.  Save the notebook file as \"dlnd_image_classification.ipynb\" and save it as a HTML file under \"File\" -> \"Download as\".  Include the \"helper.py\" and \"problem_unittests.py\" files in your submission."
   ]
  }
 ],
 "metadata": {
  "kernelspec": {
   "display_name": "Python 3",
   "language": "python",
   "name": "python3"
  },
  "language_info": {
   "codemirror_mode": {
    "name": "ipython",
    "version": 3
   },
   "file_extension": ".py",
   "mimetype": "text/x-python",
   "name": "python",
   "nbconvert_exporter": "python",
   "pygments_lexer": "ipython3",
   "version": "3.5.2"
  },
  "widgets": {
   "state": {},
   "version": "1.1.2"
  }
 },
 "nbformat": 4,
 "nbformat_minor": 0
}
